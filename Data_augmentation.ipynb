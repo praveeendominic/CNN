{
  "nbformat": 4,
  "nbformat_minor": 0,
  "metadata": {
    "colab": {
      "provenance": [],
      "collapsed_sections": []
    },
    "kernelspec": {
      "name": "python3",
      "display_name": "Python 3"
    },
    "language_info": {
      "name": "python"
    }
  },
  "cells": [
    {
      "cell_type": "code",
      "execution_count": 66,
      "metadata": {
        "id": "Xr2YPkEpKWtf"
      },
      "outputs": [],
      "source": [
        "import tensorflow as tf\n",
        "from tensorflow import keras\n",
        "from keras.layers import Conv2D, Dense, Dropout\n",
        "import tensorflow_hub as hub\n",
        "from keras.models import Sequential"
      ]
    },
    {
      "cell_type": "code",
      "source": [
        "from keras_preprocessing import image\n",
        "import pathlib"
      ],
      "metadata": {
        "id": "iJ-5HDQBLkzg"
      },
      "execution_count": 8,
      "outputs": []
    },
    {
      "cell_type": "code",
      "source": [
        "dir=pathlib.Path(\"/content/drive/MyDrive/DL/CNN/flower_photos\")\n",
        "list(dir.glob(\"*/*.jpg\"))[:2]"
      ],
      "metadata": {
        "colab": {
          "base_uri": "https://localhost:8080/"
        },
        "id": "an1uHMekLrrD",
        "outputId": "b8fbc0d7-552c-4098-d7d4-c60536ea656b"
      },
      "execution_count": 14,
      "outputs": [
        {
          "output_type": "execute_result",
          "data": {
            "text/plain": [
              "[PosixPath('/content/drive/MyDrive/DL/CNN/flower_photos/sunflowers/164670455_29d8e02bbd_n.jpg'),\n",
              " PosixPath('/content/drive/MyDrive/DL/CNN/flower_photos/sunflowers/1596293240_2d5b53495a_m.jpg')]"
            ]
          },
          "metadata": {},
          "execution_count": 14
        }
      ]
    },
    {
      "cell_type": "code",
      "source": [
        "image_dict={\"daisy\": list(dir.glob(\"daisy/*.jpg\")),\n",
        "            \"dandelion\": list(dir.glob(\"dandelion/*.jpg\")),\n",
        "            \"roses\": list(dir.glob(\"roses/*.jpg\")),\n",
        "            \"sunflowers\": list(dir.glob(\"sunflowers/*.jpg\")),\n",
        "            \"tulips\": list(dir.glob(\"tulips/*.jpg\"))\n",
        "            }\n",
        "\n",
        "label_dict={\"daisy\":0,\n",
        "            \"dandelion\":1,\n",
        "            \"roses\":2,\n",
        "            \"sunflowers\":3,\n",
        "            \"tulips\":4}"
      ],
      "metadata": {
        "id": "lEvxdTLaMODr"
      },
      "execution_count": 36,
      "outputs": []
    },
    {
      "cell_type": "code",
      "source": [
        "import cv2, numpy as np\n",
        "\n",
        "X,y = [], []\n",
        "\n",
        "for flowername, flowerpath in image_dict.items():\n",
        "  for path in flowerpath:\n",
        "    im_tmp= cv2.resize(cv2.imread(str(path)),(224,224)) #resize\n",
        "    im_tmp=im_tmp/255 #scale\n",
        "    X.append(im_tmp)\n",
        "    y.append(label_dict.get(flowername))\n",
        "\n",
        "X=np.array(X)\n",
        "y=np.array(y)"
      ],
      "metadata": {
        "id": "GTTm2AUTNGJm"
      },
      "execution_count": 37,
      "outputs": []
    },
    {
      "cell_type": "code",
      "source": [
        "from sklearn.model_selection import train_test_split\n",
        "X_train, X_test, y_train, y_test = train_test_split(X, y, test_size=0.2)\n",
        "X_train.shape, X_test.shape, y_train.shape, y_test.shape"
      ],
      "metadata": {
        "colab": {
          "base_uri": "https://localhost:8080/"
        },
        "id": "6qgUGcLmRTkL",
        "outputId": "8f76ac09-7cc0-4d74-b45c-b2036e3e53e0"
      },
      "execution_count": 38,
      "outputs": [
        {
          "output_type": "execute_result",
          "data": {
            "text/plain": [
              "((480, 224, 224, 3), (120, 224, 224, 3), (480,), (120,))"
            ]
          },
          "metadata": {},
          "execution_count": 38
        }
      ]
    },
    {
      "cell_type": "code",
      "source": [
        "LAYERS = [hub.KerasLayer(\"https://tfhub.dev/google/imagenet/mobilenet_v2_140_224/feature_vector/5\",input_shape=(224,224,3)),\n",
        "          Dense(units=120, activation='relu'),\n",
        "          Dense(units=5, activation='sigmoid')]"
      ],
      "metadata": {
        "id": "tSJ8fcYuKsBO"
      },
      "execution_count": 5,
      "outputs": []
    },
    {
      "cell_type": "code",
      "source": [
        "model=Sequential(LAYERS)\n",
        "model.compile(optimizer=\"adam\", loss=\"sparse_categorical_crossentropy\", metrics=['accuracy'])\n",
        "model.summary()"
      ],
      "metadata": {
        "colab": {
          "base_uri": "https://localhost:8080/"
        },
        "id": "fC4ebdwJLJKT",
        "outputId": "0f043ed5-55b1-492d-d9ea-383468c8ea49"
      },
      "execution_count": 41,
      "outputs": [
        {
          "output_type": "stream",
          "name": "stdout",
          "text": [
            "Model: \"sequential_2\"\n",
            "_________________________________________________________________\n",
            " Layer (type)                Output Shape              Param #   \n",
            "=================================================================\n",
            " keras_layer_1 (KerasLayer)  (None, 1792)              4363712   \n",
            "                                                                 \n",
            " dense (Dense)               (None, 120)               215160    \n",
            "                                                                 \n",
            " dense_1 (Dense)             (None, 5)                 605       \n",
            "                                                                 \n",
            "=================================================================\n",
            "Total params: 4,579,477\n",
            "Trainable params: 215,765\n",
            "Non-trainable params: 4,363,712\n",
            "_________________________________________________________________\n"
          ]
        }
      ]
    },
    {
      "cell_type": "code",
      "source": [
        "model.fit(X_train, y_train, epochs=1, batch_size=32,verbose=2)"
      ],
      "metadata": {
        "colab": {
          "base_uri": "https://localhost:8080/"
        },
        "id": "JDYz35PGLhpH",
        "outputId": "a4e7b585-6add-4daf-de77-f24e0ca1f215"
      },
      "execution_count": 44,
      "outputs": [
        {
          "output_type": "stream",
          "name": "stdout",
          "text": [
            "15/15 - 24s - loss: 0.0968 - accuracy: 0.9771 - 24s/epoch - 2s/step\n"
          ]
        },
        {
          "output_type": "execute_result",
          "data": {
            "text/plain": [
              "<keras.callbacks.History at 0x7fc12bce9bd0>"
            ]
          },
          "metadata": {},
          "execution_count": 44
        }
      ]
    },
    {
      "cell_type": "code",
      "source": [
        "model.evaluate(X_test, y_test)"
      ],
      "metadata": {
        "colab": {
          "base_uri": "https://localhost:8080/"
        },
        "id": "4F5XY4yBR5bR",
        "outputId": "46b36901-b621-4df4-f84e-e61ed897bb05"
      },
      "execution_count": 45,
      "outputs": [
        {
          "output_type": "stream",
          "name": "stdout",
          "text": [
            "4/4 [==============================] - 9s 2s/step - loss: 0.3582 - accuracy: 0.8500\n"
          ]
        },
        {
          "output_type": "execute_result",
          "data": {
            "text/plain": [
              "[0.35821762681007385, 0.8500000238418579]"
            ]
          },
          "metadata": {},
          "execution_count": 45
        }
      ]
    },
    {
      "cell_type": "code",
      "source": [
        "augmentation=Sequential(\n",
        "    [\n",
        "        tf.keras.layers.RandomFlip(mode=\"horizontal_and_vertical\", input_shape=(224,224,3)),\n",
        "        # tf.keras.layers.experimental.preprocessing.RandomCrop(),\n",
        "        tf.keras.layers.RandomRotation(0.2),\n",
        "        tf.keras.layers.RandomZoom(0.1),\n",
        "        tf.keras.layers.RandomContrast(0.2)\n",
        "    ]\n",
        ")"
      ],
      "metadata": {
        "colab": {
          "base_uri": "https://localhost:8080/"
        },
        "id": "LiWRkgUzSpk0",
        "outputId": "811c1b2f-fdc2-4401-b9b2-63ee7d291ed1"
      },
      "execution_count": 63,
      "outputs": [
        {
          "output_type": "stream",
          "name": "stderr",
          "text": [
            "WARNING:tensorflow:Using a while_loop for converting RngReadAndSkip\n",
            "WARNING:tensorflow:Using a while_loop for converting Bitcast\n",
            "WARNING:tensorflow:Using a while_loop for converting Bitcast\n",
            "WARNING:tensorflow:Using a while_loop for converting StatelessRandomUniformFullIntV2\n",
            "WARNING:tensorflow:Using a while_loop for converting StatelessRandomGetKeyCounter\n",
            "WARNING:tensorflow:Using a while_loop for converting StatelessRandomUniformV2\n",
            "WARNING:tensorflow:Using a while_loop for converting AdjustContrastv2\n"
          ]
        }
      ]
    },
    {
      "cell_type": "code",
      "source": [
        "model1=Sequential([\n",
        "    augmentation,\n",
        "    hub.KerasLayer(\"https://tfhub.dev/google/imagenet/mobilenet_v2_140_224/feature_vector/5\"),\n",
        "    Dense(units=128, activation='relu'),\n",
        "    Dense(units=5,activation='softmax')\n",
        "])\n",
        "model1.compile(optimizer=\"adam\", loss=\"sparse_categorical_crossentropy\", metrics=['accuracy'])\n",
        "model1.summary()"
      ],
      "metadata": {
        "colab": {
          "base_uri": "https://localhost:8080/"
        },
        "id": "iBTsXNtkTv2S",
        "outputId": "199bc922-afb0-442d-b821-6e2b1243de34"
      },
      "execution_count": 73,
      "outputs": [
        {
          "output_type": "stream",
          "name": "stdout",
          "text": [
            "Model: \"sequential_18\"\n",
            "_________________________________________________________________\n",
            " Layer (type)                Output Shape              Param #   \n",
            "=================================================================\n",
            " sequential_16 (Sequential)  (None, 224, 224, 3)       0         \n",
            "                                                                 \n",
            " keras_layer_11 (KerasLayer)  (None, 1792)             4363712   \n",
            "                                                                 \n",
            " dense_18 (Dense)            (None, 128)               229504    \n",
            "                                                                 \n",
            " dense_19 (Dense)            (None, 5)                 645       \n",
            "                                                                 \n",
            "=================================================================\n",
            "Total params: 4,593,861\n",
            "Trainable params: 230,149\n",
            "Non-trainable params: 4,363,712\n",
            "_________________________________________________________________\n"
          ]
        }
      ]
    },
    {
      "cell_type": "code",
      "source": [
        "tf.get_logger().setLevel('ERROR') #just suppressing the warning\n",
        "model1.fit(X_train, y_train, epochs=2, batch_size=32, verbose=2)"
      ],
      "metadata": {
        "colab": {
          "base_uri": "https://localhost:8080/"
        },
        "id": "QzWKfHI6Umzr",
        "outputId": "47460e92-6601-47c1-c37d-2fdd15bce7f4"
      },
      "execution_count": 75,
      "outputs": [
        {
          "output_type": "stream",
          "name": "stdout",
          "text": [
            "Epoch 1/2\n",
            "15/15 - 29s - loss: 0.7174 - accuracy: 0.7292 - 29s/epoch - 2s/step\n",
            "Epoch 2/2\n",
            "15/15 - 26s - loss: 0.3974 - accuracy: 0.8625 - 26s/epoch - 2s/step\n"
          ]
        },
        {
          "output_type": "execute_result",
          "data": {
            "text/plain": [
              "<keras.callbacks.History at 0x7fc12793f9d0>"
            ]
          },
          "metadata": {},
          "execution_count": 75
        }
      ]
    },
    {
      "cell_type": "code",
      "source": [
        "model1.evaluate(X_test, y_test)"
      ],
      "metadata": {
        "colab": {
          "base_uri": "https://localhost:8080/"
        },
        "id": "eKNQqtIEW9gA",
        "outputId": "687c283c-88ea-4f85-93e9-48d5f4ce9060"
      },
      "execution_count": 76,
      "outputs": [
        {
          "output_type": "stream",
          "name": "stdout",
          "text": [
            "4/4 [==============================] - 6s 1s/step - loss: 0.4670 - accuracy: 0.8167\n"
          ]
        },
        {
          "output_type": "execute_result",
          "data": {
            "text/plain": [
              "[0.46697548031806946, 0.8166666626930237]"
            ]
          },
          "metadata": {},
          "execution_count": 76
        }
      ]
    },
    {
      "cell_type": "code",
      "source": [],
      "metadata": {
        "id": "8TgL26iiXDPv"
      },
      "execution_count": null,
      "outputs": []
    }
  ]
}