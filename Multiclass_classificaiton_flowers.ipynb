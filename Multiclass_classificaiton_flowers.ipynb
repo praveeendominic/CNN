{
  "nbformat": 4,
  "nbformat_minor": 0,
  "metadata": {
    "colab": {
      "provenance": []
    },
    "kernelspec": {
      "name": "python3",
      "display_name": "Python 3"
    },
    "language_info": {
      "name": "python"
    }
  },
  "cells": [
    {
      "cell_type": "code",
      "execution_count": 1,
      "metadata": {
        "id": "OTooXTRj95Pz"
      },
      "outputs": [],
      "source": [
        "import tensorflow as tf\n",
        "from tensorflow import keras\n",
        "from keras.layers import Dense, Conv2D, MaxPool2D, Flatten\n",
        "from keras.models import Sequential\n",
        "\n",
        "\n",
        "#LOAD DATA\n",
        "from keras_preprocessing import image\n",
        "from keras.preprocessing.image import ImageDataGenerator"
      ]
    },
    {
      "cell_type": "code",
      "source": [
        "train_gen=ImageDataGenerator(rescale=1./255, zoom_range=0.2, shear_range=0.2)\n",
        "test_gen=ImageDataGenerator(rescale=1./255, zoom_range=0.2, shear_range=0.2)\n",
        "train_data=train_gen.flow_from_directory(\"/content/drive/MyDrive/DL/CNN/17_flowers/train\", class_mode='categorical', batch_size=32, target_size=(64,64))\n",
        "test_data=train_gen.flow_from_directory(\"/content/drive/MyDrive/DL/CNN/17_flowers/test\", class_mode='categorical',batch_size=32,target_size=(64,64))"
      ],
      "metadata": {
        "colab": {
          "base_uri": "https://localhost:8080/"
        },
        "id": "JefnarjN-E-E",
        "outputId": "20d7454c-30dd-4b8f-addc-cef8f4a285e2"
      },
      "execution_count": 2,
      "outputs": [
        {
          "output_type": "stream",
          "name": "stdout",
          "text": [
            "Found 1088 images belonging to 17 classes.\n",
            "Found 272 images belonging to 17 classes.\n"
          ]
        }
      ]
    },
    {
      "cell_type": "code",
      "source": [
        "LAYERS = [Conv2D(input_shape=(64,64,3), kernel_size=3, filters=6,padding='valid',activation='relu'),\n",
        "          MaxPool2D(pool_size=2, strides=(2,2)),\n",
        "          Conv2D(kernel_size=3, filters=8, padding='valid', activation='relu'),\n",
        "          MaxPool2D(pool_size=2, strides=(2,2)),\n",
        "          Conv2D(kernel_size=3, filters=16, padding='valid', activation='relu'),\n",
        "          MaxPool2D(pool_size=2, strides=(2,2)),\n",
        "          Conv2D(kernel_size=3, filters=64, padding='valid', activation='relu'),\n",
        "          MaxPool2D(pool_size=2, strides=(2,2)),\n",
        "          Flatten(),\n",
        "          Dense(units=128, activation='relu'),\n",
        "          Dense(units=17, activation='softmax')]\n",
        "\n",
        "model = Sequential(LAYERS)\n",
        "model.compile(optimizer='adam', loss='categorical_crossentropy', metrics=['accuracy'])\n",
        "model.summary()"
      ],
      "metadata": {
        "colab": {
          "base_uri": "https://localhost:8080/"
        },
        "id": "bOhVQJrw-Ti7",
        "outputId": "320f8d58-511e-48e3-b770-0b1e07f5d076"
      },
      "execution_count": 11,
      "outputs": [
        {
          "output_type": "stream",
          "name": "stdout",
          "text": [
            "Model: \"sequential_1\"\n",
            "_________________________________________________________________\n",
            " Layer (type)                Output Shape              Param #   \n",
            "=================================================================\n",
            " conv2d_4 (Conv2D)           (None, 62, 62, 6)         168       \n",
            "                                                                 \n",
            " max_pooling2d_4 (MaxPooling  (None, 31, 31, 6)        0         \n",
            " 2D)                                                             \n",
            "                                                                 \n",
            " conv2d_5 (Conv2D)           (None, 29, 29, 8)         440       \n",
            "                                                                 \n",
            " max_pooling2d_5 (MaxPooling  (None, 14, 14, 8)        0         \n",
            " 2D)                                                             \n",
            "                                                                 \n",
            " conv2d_6 (Conv2D)           (None, 12, 12, 16)        1168      \n",
            "                                                                 \n",
            " max_pooling2d_6 (MaxPooling  (None, 6, 6, 16)         0         \n",
            " 2D)                                                             \n",
            "                                                                 \n",
            " conv2d_7 (Conv2D)           (None, 4, 4, 64)          9280      \n",
            "                                                                 \n",
            " max_pooling2d_7 (MaxPooling  (None, 2, 2, 64)         0         \n",
            " 2D)                                                             \n",
            "                                                                 \n",
            " flatten_1 (Flatten)         (None, 256)               0         \n",
            "                                                                 \n",
            " dense_2 (Dense)             (None, 128)               32896     \n",
            "                                                                 \n",
            " dense_3 (Dense)             (None, 17)                2193      \n",
            "                                                                 \n",
            "=================================================================\n",
            "Total params: 46,145\n",
            "Trainable params: 46,145\n",
            "Non-trainable params: 0\n",
            "_________________________________________________________________\n"
          ]
        }
      ]
    },
    {
      "cell_type": "code",
      "source": [
        "model.fit(x=train_data, validation_data=test_data, epochs=50)"
      ],
      "metadata": {
        "colab": {
          "base_uri": "https://localhost:8080/"
        },
        "id": "0YHNZelu-YS8",
        "outputId": "8801111f-5da6-4588-c1a4-09b668f45319"
      },
      "execution_count": 13,
      "outputs": [
        {
          "output_type": "stream",
          "name": "stdout",
          "text": [
            "Epoch 1/50\n",
            "34/34 [==============================] - 14s 401ms/step - loss: 2.7475 - accuracy: 0.0993 - val_loss: 2.6246 - val_accuracy: 0.1029\n",
            "Epoch 2/50\n",
            "34/34 [==============================] - 14s 402ms/step - loss: 2.2411 - accuracy: 0.2142 - val_loss: 2.3779 - val_accuracy: 0.1875\n",
            "Epoch 3/50\n",
            "34/34 [==============================] - 14s 405ms/step - loss: 2.0579 - accuracy: 0.2748 - val_loss: 2.4917 - val_accuracy: 0.1949\n",
            "Epoch 4/50\n",
            "34/34 [==============================] - 13s 380ms/step - loss: 1.8878 - accuracy: 0.3566 - val_loss: 2.5292 - val_accuracy: 0.1728\n",
            "Epoch 5/50\n",
            "34/34 [==============================] - 13s 385ms/step - loss: 1.8066 - accuracy: 0.3824 - val_loss: 2.4100 - val_accuracy: 0.2243\n",
            "Epoch 6/50\n",
            "34/34 [==============================] - 13s 383ms/step - loss: 1.6597 - accuracy: 0.4164 - val_loss: 2.3054 - val_accuracy: 0.2610\n",
            "Epoch 7/50\n",
            "34/34 [==============================] - 14s 401ms/step - loss: 1.5496 - accuracy: 0.4632 - val_loss: 2.2033 - val_accuracy: 0.3088\n",
            "Epoch 8/50\n",
            "34/34 [==============================] - 15s 439ms/step - loss: 1.4491 - accuracy: 0.5110 - val_loss: 2.1228 - val_accuracy: 0.3309\n",
            "Epoch 9/50\n",
            "34/34 [==============================] - 13s 382ms/step - loss: 1.4154 - accuracy: 0.5074 - val_loss: 2.3497 - val_accuracy: 0.2647\n",
            "Epoch 10/50\n",
            "34/34 [==============================] - 13s 382ms/step - loss: 1.3402 - accuracy: 0.5423 - val_loss: 2.1880 - val_accuracy: 0.3640\n",
            "Epoch 11/50\n",
            "34/34 [==============================] - 13s 387ms/step - loss: 1.2658 - accuracy: 0.5717 - val_loss: 2.1115 - val_accuracy: 0.3235\n",
            "Epoch 12/50\n",
            "34/34 [==============================] - 13s 385ms/step - loss: 1.2085 - accuracy: 0.5864 - val_loss: 1.9507 - val_accuracy: 0.3676\n",
            "Epoch 13/50\n",
            "34/34 [==============================] - 13s 385ms/step - loss: 1.2092 - accuracy: 0.5846 - val_loss: 2.1152 - val_accuracy: 0.3640\n",
            "Epoch 14/50\n",
            "34/34 [==============================] - 13s 388ms/step - loss: 1.1162 - accuracy: 0.6305 - val_loss: 2.1695 - val_accuracy: 0.3603\n",
            "Epoch 15/50\n",
            "34/34 [==============================] - 13s 384ms/step - loss: 1.0688 - accuracy: 0.6360 - val_loss: 2.0513 - val_accuracy: 0.3713\n",
            "Epoch 16/50\n",
            "34/34 [==============================] - 13s 383ms/step - loss: 1.0457 - accuracy: 0.6324 - val_loss: 1.9861 - val_accuracy: 0.3971\n",
            "Epoch 17/50\n",
            "34/34 [==============================] - 13s 385ms/step - loss: 0.9956 - accuracy: 0.6535 - val_loss: 2.1688 - val_accuracy: 0.3566\n",
            "Epoch 18/50\n",
            "34/34 [==============================] - 13s 381ms/step - loss: 0.9591 - accuracy: 0.6572 - val_loss: 1.9464 - val_accuracy: 0.4081\n",
            "Epoch 19/50\n",
            "34/34 [==============================] - 13s 381ms/step - loss: 0.9195 - accuracy: 0.6682 - val_loss: 2.2671 - val_accuracy: 0.3566\n",
            "Epoch 20/50\n",
            "34/34 [==============================] - 13s 378ms/step - loss: 0.8801 - accuracy: 0.7096 - val_loss: 2.2142 - val_accuracy: 0.3750\n",
            "Epoch 21/50\n",
            "34/34 [==============================] - 13s 377ms/step - loss: 0.8247 - accuracy: 0.7279 - val_loss: 2.0373 - val_accuracy: 0.4154\n",
            "Epoch 22/50\n",
            "34/34 [==============================] - 13s 378ms/step - loss: 0.7693 - accuracy: 0.7371 - val_loss: 1.9896 - val_accuracy: 0.4522\n",
            "Epoch 23/50\n",
            "34/34 [==============================] - 13s 379ms/step - loss: 0.7767 - accuracy: 0.7224 - val_loss: 2.0823 - val_accuracy: 0.3934\n",
            "Epoch 24/50\n",
            "34/34 [==============================] - 13s 387ms/step - loss: 0.7111 - accuracy: 0.7546 - val_loss: 2.1038 - val_accuracy: 0.4191\n",
            "Epoch 25/50\n",
            "34/34 [==============================] - 14s 425ms/step - loss: 0.7281 - accuracy: 0.7408 - val_loss: 2.0956 - val_accuracy: 0.4191\n",
            "Epoch 26/50\n",
            "34/34 [==============================] - 13s 382ms/step - loss: 0.6322 - accuracy: 0.7840 - val_loss: 2.2358 - val_accuracy: 0.3824\n",
            "Epoch 27/50\n",
            "34/34 [==============================] - 13s 380ms/step - loss: 0.6437 - accuracy: 0.7665 - val_loss: 2.2543 - val_accuracy: 0.4081\n",
            "Epoch 28/50\n",
            "34/34 [==============================] - 13s 377ms/step - loss: 0.6078 - accuracy: 0.7831 - val_loss: 2.2330 - val_accuracy: 0.4412\n",
            "Epoch 29/50\n",
            "34/34 [==============================] - 13s 378ms/step - loss: 0.5564 - accuracy: 0.8079 - val_loss: 2.4325 - val_accuracy: 0.3971\n",
            "Epoch 30/50\n",
            "34/34 [==============================] - 13s 377ms/step - loss: 0.5377 - accuracy: 0.8153 - val_loss: 2.1861 - val_accuracy: 0.4191\n",
            "Epoch 31/50\n",
            "34/34 [==============================] - 13s 378ms/step - loss: 0.5392 - accuracy: 0.8134 - val_loss: 2.2897 - val_accuracy: 0.4191\n",
            "Epoch 32/50\n",
            "34/34 [==============================] - 13s 377ms/step - loss: 0.4738 - accuracy: 0.8327 - val_loss: 2.5896 - val_accuracy: 0.4265\n",
            "Epoch 33/50\n",
            "34/34 [==============================] - 13s 380ms/step - loss: 0.4731 - accuracy: 0.8346 - val_loss: 2.3797 - val_accuracy: 0.4449\n",
            "Epoch 34/50\n",
            "34/34 [==============================] - 14s 425ms/step - loss: 0.5185 - accuracy: 0.8061 - val_loss: 2.3016 - val_accuracy: 0.4301\n",
            "Epoch 35/50\n",
            "34/34 [==============================] - 13s 382ms/step - loss: 0.4379 - accuracy: 0.8493 - val_loss: 2.1984 - val_accuracy: 0.4449\n",
            "Epoch 36/50\n",
            "34/34 [==============================] - 13s 378ms/step - loss: 0.3733 - accuracy: 0.8704 - val_loss: 2.5566 - val_accuracy: 0.4081\n",
            "Epoch 37/50\n",
            "34/34 [==============================] - 13s 385ms/step - loss: 0.3581 - accuracy: 0.8796 - val_loss: 2.6384 - val_accuracy: 0.4412\n",
            "Epoch 38/50\n",
            "34/34 [==============================] - 13s 391ms/step - loss: 0.3600 - accuracy: 0.8676 - val_loss: 2.4555 - val_accuracy: 0.4559\n",
            "Epoch 39/50\n",
            "34/34 [==============================] - 13s 386ms/step - loss: 0.3258 - accuracy: 0.8925 - val_loss: 2.3947 - val_accuracy: 0.4632\n",
            "Epoch 40/50\n",
            "34/34 [==============================] - 13s 393ms/step - loss: 0.3147 - accuracy: 0.8934 - val_loss: 2.4982 - val_accuracy: 0.4485\n",
            "Epoch 41/50\n",
            "34/34 [==============================] - 13s 393ms/step - loss: 0.2837 - accuracy: 0.9044 - val_loss: 2.5300 - val_accuracy: 0.4559\n",
            "Epoch 42/50\n",
            "34/34 [==============================] - 15s 447ms/step - loss: 0.2860 - accuracy: 0.9007 - val_loss: 2.7200 - val_accuracy: 0.4154\n",
            "Epoch 43/50\n",
            "34/34 [==============================] - 14s 403ms/step - loss: 0.2997 - accuracy: 0.8934 - val_loss: 2.7223 - val_accuracy: 0.4375\n",
            "Epoch 44/50\n",
            "34/34 [==============================] - 14s 403ms/step - loss: 0.2492 - accuracy: 0.9118 - val_loss: 2.7781 - val_accuracy: 0.4228\n",
            "Epoch 45/50\n",
            "34/34 [==============================] - 13s 396ms/step - loss: 0.2599 - accuracy: 0.9127 - val_loss: 2.7650 - val_accuracy: 0.4632\n",
            "Epoch 46/50\n",
            "34/34 [==============================] - 14s 398ms/step - loss: 0.2171 - accuracy: 0.9329 - val_loss: 2.8850 - val_accuracy: 0.4485\n",
            "Epoch 47/50\n",
            "34/34 [==============================] - 14s 402ms/step - loss: 0.2081 - accuracy: 0.9329 - val_loss: 2.8861 - val_accuracy: 0.4338\n",
            "Epoch 48/50\n",
            "34/34 [==============================] - 14s 401ms/step - loss: 0.1645 - accuracy: 0.9485 - val_loss: 3.1667 - val_accuracy: 0.4375\n",
            "Epoch 49/50\n",
            "34/34 [==============================] - 14s 400ms/step - loss: 0.1489 - accuracy: 0.9550 - val_loss: 3.2593 - val_accuracy: 0.4338\n",
            "Epoch 50/50\n",
            "34/34 [==============================] - 14s 418ms/step - loss: 0.1482 - accuracy: 0.9531 - val_loss: 3.1331 - val_accuracy: 0.4338\n"
          ]
        },
        {
          "output_type": "execute_result",
          "data": {
            "text/plain": [
              "<keras.callbacks.History at 0x7fafd2b27ad0>"
            ]
          },
          "metadata": {},
          "execution_count": 13
        }
      ]
    },
    {
      "cell_type": "code",
      "source": [
        "import numpy as np\n",
        "test_img=image.load_img('/content/drive/MyDrive/DL/CNN/17_flowers/singe_predict/0/image_0065.jpg', target_size=(64,64))\n",
        "test_img"
      ],
      "metadata": {
        "colab": {
          "base_uri": "https://localhost:8080/",
          "height": 81
        },
        "id": "icV-3JkO-ada",
        "outputId": "68d2f33f-5d41-448f-86bd-3c38d5937143"
      },
      "execution_count": 16,
      "outputs": [
        {
          "output_type": "execute_result",
          "data": {
            "text/plain": [
              "<PIL.Image.Image image mode=RGB size=64x64 at 0x7FAFD28DF510>"
            ],
            "image/png": "[encoded data removed]"
          },
          "metadata": {},
          "execution_count": 16
        }
      ]
    },
    {
      "cell_type": "code",
      "source": [
        "transformed_img=np.expand_dims(image.img_to_array(test_img),axis=0)"
      ],
      "metadata": {
        "id": "kyHYaPVzE4XB"
      },
      "execution_count": 17,
      "outputs": []
    },
    {
      "cell_type": "code",
      "source": [
        "np.argmax(model.predict(transformed_img))"
      ],
      "metadata": {
        "colab": {
          "base_uri": "https://localhost:8080/"
        },
        "id": "GjNd226OEvU9",
        "outputId": "71cfaf89-7d0a-4f88-9211-6c44334642fa"
      },
      "execution_count": 18,
      "outputs": [
        {
          "output_type": "stream",
          "name": "stdout",
          "text": [
            "1/1 [==============================] - 0s 21ms/step\n"
          ]
        },
        {
          "output_type": "execute_result",
          "data": {
            "text/plain": [
              "0"
            ]
          },
          "metadata": {},
          "execution_count": 18
        }
      ]
    },
    {
      "cell_type": "code",
      "source": [
        "train_data.class_indices"
      ],
      "metadata": {
        "colab": {
          "base_uri": "https://localhost:8080/"
        },
        "id": "imSZoDIYFLsZ",
        "outputId": "00ca2e35-fa64-4ac2-de2a-375b627bdb65"
      },
      "execution_count": 19,
      "outputs": [
        {
          "output_type": "execute_result",
          "data": {
            "text/plain": [
              "{'0': 0,\n",
              " '1': 1,\n",
              " '10': 2,\n",
              " '11': 3,\n",
              " '12': 4,\n",
              " '13': 5,\n",
              " '14': 6,\n",
              " '15': 7,\n",
              " '16': 8,\n",
              " '2': 9,\n",
              " '3': 10,\n",
              " '4': 11,\n",
              " '5': 12,\n",
              " '6': 13,\n",
              " '7': 14,\n",
              " '8': 15,\n",
              " '9': 16}"
            ]
          },
          "metadata": {},
          "execution_count": 19
        }
      ]
    },
    {
      "cell_type": "code",
      "source": [],
      "metadata": {
        "id": "3DOHETtWFpwf"
      },
      "execution_count": null,
      "outputs": []
    }
  ]
}