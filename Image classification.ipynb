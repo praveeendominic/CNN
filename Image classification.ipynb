{
 "cells": [
  {
   "cell_type": "code",
   "execution_count": 2,
   "id": "31f1e7e8",
   "metadata": {},
   "outputs": [],
   "source": [
    "import tensorflow as tf"
   ]
  },
  {
   "cell_type": "code",
   "execution_count": 3,
   "id": "1e0a2238",
   "metadata": {},
   "outputs": [
    {
     "data": {
      "text/plain": [
       "'2.7.0'"
      ]
     },
     "execution_count": 3,
     "metadata": {},
     "output_type": "execute_result"
    }
   ],
   "source": [
    "tf.__version__"
   ]
  },
  {
   "cell_type": "code",
   "execution_count": 4,
   "id": "ed401cbd",
   "metadata": {},
   "outputs": [
    {
     "data": {
      "text/plain": [
       "[PhysicalDevice(name='/physical_device:CPU:0', device_type='CPU'),\n",
       " PhysicalDevice(name='/physical_device:GPU:0', device_type='GPU')]"
      ]
     },
     "execution_count": 4,
     "metadata": {},
     "output_type": "execute_result"
    }
   ],
   "source": [
    "tf.config.list_physical_devices()"
   ]
  },
  {
   "cell_type": "code",
   "execution_count": 5,
   "id": "e8589aa9",
   "metadata": {},
   "outputs": [],
   "source": [
    "from keras.preprocessing import image\n",
    "from keras.preprocessing.image import ImageDataGenerator"
   ]
  },
  {
   "cell_type": "code",
   "execution_count": 6,
   "id": "056eac09",
   "metadata": {},
   "outputs": [
    {
     "name": "stdout",
     "output_type": "stream",
     "text": [
      "Found 8000 images belonging to 2 classes.\n",
      "Found 2000 images belonging to 2 classes.\n"
     ]
    }
   ],
   "source": [
    "train_generator=ImageDataGenerator(rescale=1./255,\n",
    "                                  zoom_range=0.2,\n",
    "                                  shear_range=0.2)\n",
    "\n",
    "test_generator=ImageDataGenerator(rescale=1./255, zoom_range=0.2, shear_range=0.2)\n",
    "\n",
    "\n",
    "train_data=train_generator.flow_from_directory('dataset_dogcat/training_set',\n",
    "                                              class_mode='binary',\n",
    "                                              batch_size=32,\n",
    "                                              target_size=(64,64))\n",
    "\n",
    "test_data=test_generator.flow_from_directory('dataset_dogcat/test_set/',\n",
    "                                  class_mode='binary',\n",
    "                                  batch_size=32,\n",
    "                                  target_size=(64,64))"
   ]
  },
  {
   "cell_type": "code",
   "execution_count": 7,
   "id": "91e3c51c",
   "metadata": {},
   "outputs": [],
   "source": [
    "from tensorflow import keras\n",
    "from keras.models import Sequential\n",
    "from keras.layers import Conv2D, MaxPool2D, Dense, Flatten"
   ]
  },
  {
   "cell_type": "code",
   "execution_count": 8,
   "id": "a3c8e87d",
   "metadata": {},
   "outputs": [],
   "source": [
    "LAYERS = [Conv2D(input_shape=(64,64,3),filters=8, kernel_size=3, padding='valid', activation='relu'),\n",
    "         MaxPool2D(pool_size=2, strides=(2,2)),\n",
    "         Conv2D(filters=16, kernel_size=3, padding='valid', activation='relu'),\n",
    "         MaxPool2D(pool_size=2, strides=(2,2)),\n",
    "         Flatten(),\n",
    "         Dense(units=128, activation='relu'),\n",
    "         Dense(units=1, activation='sigmoid')]"
   ]
  },
  {
   "cell_type": "code",
   "execution_count": 9,
   "id": "7af643fd",
   "metadata": {},
   "outputs": [],
   "source": [
    "model=Sequential(LAYERS)\n",
    "model.compile(optimizer='adam',loss='binary_crossentropy', metrics=['accuracy'])"
   ]
  },
  {
   "cell_type": "code",
   "execution_count": 10,
   "id": "5ad43eec",
   "metadata": {},
   "outputs": [
    {
     "name": "stdout",
     "output_type": "stream",
     "text": [
      "250/250 [==============================] - 54s 190ms/step - loss: 0.6658 - accuracy: 0.5841 - val_loss: 0.6241 - val_accuracy: 0.6660\n"
     ]
    },
    {
     "data": {
      "text/plain": [
       "<keras.callbacks.History at 0x24709671070>"
      ]
     },
     "execution_count": 10,
     "metadata": {},
     "output_type": "execute_result"
    }
   ],
   "source": [
    "model.fit(x=train_data, validation_data=test_data, epochs=1)"
   ]
  },
  {
   "cell_type": "code",
   "execution_count": 11,
   "id": "e0bb2bf9",
   "metadata": {},
   "outputs": [
    {
     "data": {
      "text/plain": [
       "array([[1.]], dtype=float32)"
      ]
     },
     "execution_count": 11,
     "metadata": {},
     "output_type": "execute_result"
    }
   ],
   "source": [
    "path = \"C:\\\\code\\\\CNN\\\\dataset_dogcat1\\\\single_prediction\\\\cat_or_dog_1.jpg\"\n",
    "# from keras.preprocessing.image import ImageDataGenerator\n",
    "# from keras_preprocessing import Image\n",
    "\n",
    "import cv2\n",
    "import numpy as np\n",
    "from PIL import Image\n",
    "\n",
    "im = cv2.imread(path)\n",
    "im = cv2.resize(im,(64,64))\n",
    "im = np.expand_dims(im, axis = 0)\n",
    "y_pred = model.predict(im)\n",
    "y_pred\n",
    "\n",
    "# Image.open(path).show()"
   ]
  },
  {
   "cell_type": "code",
   "execution_count": 12,
   "id": "371d231e",
   "metadata": {},
   "outputs": [
    {
     "data": {
      "text/plain": [
       "{'cats': 0, 'dogs': 1}"
      ]
     },
     "execution_count": 12,
     "metadata": {},
     "output_type": "execute_result"
    }
   ],
   "source": [
    "train_data.class_indices"
   ]
  },
  {
   "cell_type": "code",
   "execution_count": 13,
   "id": "799092ee",
   "metadata": {},
   "outputs": [
    {
     "ename": "SyntaxError",
     "evalue": "invalid syntax (3584227616.py, line 4)",
     "output_type": "error",
     "traceback": [
      "\u001b[1;36m  File \u001b[1;32m\"C:\\Users\\prave\\AppData\\Local\\Temp\\ipykernel_12088\\3584227616.py\"\u001b[1;36m, line \u001b[1;32m4\u001b[0m\n\u001b[1;33m    print(:Dog)\u001b[0m\n\u001b[1;37m          ^\u001b[0m\n\u001b[1;31mSyntaxError\u001b[0m\u001b[1;31m:\u001b[0m invalid syntax\n"
     ]
    }
   ],
   "source": [
    "if y_pred[0][0] == 0:\n",
    "    print(\"Cat\")\n",
    "else:\n",
    "    print(\"Dog\")"
   ]
  },
  {
   "cell_type": "code",
   "execution_count": null,
   "id": "81796508",
   "metadata": {},
   "outputs": [],
   "source": []
  }
 ],
 "metadata": {
  "kernelspec": {
   "display_name": "base",
   "language": "python",
   "name": "python3"
  },
  "language_info": {
   "codemirror_mode": {
    "name": "ipython",
    "version": 3
   },
   "file_extension": ".py",
   "mimetype": "text/x-python",
   "name": "python",
   "nbconvert_exporter": "python",
   "pygments_lexer": "ipython3",
   "version": "3.9.13"
  },
  "vscode": {
   "interpreter": {
    "hash": "ad2bdc8ecc057115af97d19610ffacc2b4e99fae6737bb82f5d7fb13d2f2c186"
   }
  }
 },
 "nbformat": 4,
 "nbformat_minor": 5
}
